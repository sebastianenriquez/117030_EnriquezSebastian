{
 "cells": [
  {
   "cell_type": "markdown",
   "metadata": {},
   "source": [
    "# Taller 1 programación, 117030"
   ]
  },
  {
   "cell_type": "markdown",
   "metadata": {},
   "source": [
    "1 Sin utilizar el comando abs, escribir un programa que calcule e imprima el valor absoluto de cualquier número (sea entero o decimal)."
   ]
  },
  {
   "cell_type": "code",
   "execution_count": 1,
   "metadata": {
    "scrolled": true
   },
   "outputs": [
    {
     "name": "stdout",
     "output_type": "stream",
     "text": [
      "digite un número: -1223462.43\n",
      "El valor absoluto de -1223462.43 es 1223462.43\n"
     ]
    }
   ],
   "source": [
    "x=float(input('Digite un número: '))\n",
    "y=round(((x**2))**(1/2),2) #obtiene el valor absoluto con su definición \n",
    "                           #algebraica\n",
    "    \n",
    "print('El valor absoluto de',x,'es',y)"
   ]
  },
  {
   "cell_type": "markdown",
   "metadata": {},
   "source": [
    "2 Leer un número entero y escribirlo en reversa. Por ejemplo, 461975 será 579164. No utilizar comandos de ordenamiento."
   ]
  },
  {
   "cell_type": "code",
   "execution_count": 2,
   "metadata": {},
   "outputs": [
    {
     "name": "stdout",
     "output_type": "stream",
     "text": [
      "Digite un número entero 12345\n",
      "El número reverso de 12345 es 54321\n"
     ]
    }
   ],
   "source": [
    "num=input('Digite un número entero ')\n",
    "\n",
    "x=int(num)\n",
    "\n",
    "if x<0: #ordenamineto para números negativos\n",
    "    x=str(x*-1)\n",
    "    inver=x[::-1] #escribe el número de atras hacia adelante\n",
    "    print('El número reverso de',num,'es','-',inver)\n",
    "else: #ordenamiento para los números positivos\n",
    "    x=str(x)\n",
    "    inver=x[::-1]\n",
    "    print('El número reverso de',num,'es',inver)"
   ]
  },
  {
   "cell_type": "markdown",
   "metadata": {},
   "source": [
    "3 Leer un número entero de 3 dígitos y determinar si contiene el dígito 8."
   ]
  },
  {
   "cell_type": "code",
   "execution_count": 4,
   "metadata": {},
   "outputs": [
    {
     "name": "stdout",
     "output_type": "stream",
     "text": [
      "Digite un número de 3 dígitos 321\n",
      "321 no contiene el número 8\n"
     ]
    }
   ],
   "source": [
    "x= int(input('Digite un número de 3 dígitos '))\n",
    "y=str(x)\n",
    "num = list(y)\n",
    "\n",
    "while len(num) > 3: #verifica que el número contenga 3 dígitos\n",
    "    x= int(input('Digite un número de 3 dígitos '))\n",
    "    y=str(x)\n",
    "    num = list(y)\n",
    "\n",
    "if '8' in num: #busca el número 8\n",
    "     print(x,'contiene el número 8')\n",
    "else:\n",
    "    print(x,'no contiene el número 8')"
   ]
  },
  {
   "cell_type": "markdown",
   "metadata": {},
   "source": [
    "4 Leer un número entero positivo y determinar la suma de sus dígitos pares. Por ejemplo, en el número 124, los dígitos pares son el 2 y el 4 y su suma vale 6."
   ]
  },
  {
   "cell_type": "code",
   "execution_count": 5,
   "metadata": {},
   "outputs": [
    {
     "name": "stdout",
     "output_type": "stream",
     "text": [
      "Digite un entero positivo 123442\n",
      "La suma de los numeros pares de 123442 es  12\n"
     ]
    }
   ],
   "source": [
    "y=str(input('Digite un entero positivo '))\n",
    "\n",
    "x=list(y) #convierte la entrada en lista para poderla trabajar\n",
    "pares=[] #lista de números pares\n",
    "i=0\n",
    "t=0\n",
    "suma=0\n",
    "\n",
    "while i<(len(x)):\n",
    "\n",
    "    if int(x[i])%2 == 0: #agrega los números pares de la entrada a pares\n",
    "        pares.append(x[i])\n",
    "        i+=1    \n",
    "    else:\n",
    "        i+=1\n",
    "\n",
    "while t<len(pares): #realiza la suma de los números de la lista pares\n",
    "    suma=int(pares[t])+suma\n",
    "    t+=1\n",
    "\n",
    "\n",
    "print('La suma de los numeros pares de',y,'es ',suma)"
   ]
  },
  {
   "cell_type": "markdown",
   "metadata": {},
   "source": [
    "5 Leer un número entero y determinar el número de cincos que están consecutivos en un número. Por ejemplo, en 5512355551 hay 6 cincos consecutivos. Ahora, en 234555234512 solo hay 3 cincos consecutivos."
   ]
  },
  {
   "cell_type": "code",
   "execution_count": 6,
   "metadata": {},
   "outputs": [
    {
     "name": "stdout",
     "output_type": "stream",
     "text": [
      "Digite un número entero 54555554445\n",
      "El número 54555554445 tiene 5 cincos consecutivos\n"
     ]
    }
   ],
   "source": [
    "x=input('Digite un número entero ') #no se aplica list directamente para \n",
    "                                    #imprimir el numero ingresado\n",
    "y=list(x)\n",
    "\n",
    "cincos=[] #lista de cincos\n",
    "i=0 #funciona de indice\n",
    "t=1 #funciona de indice para buscar los cinco\n",
    "w=0 #completa los número cinco faltantes a la lista de cincos\n",
    "tama=len(y) #tamaño de la lista\n",
    "\n",
    "while t<(len(y)):\n",
    "    if y[i]=='5'and y[t]=='5':\n",
    "        cincos.append(y[i]) #crea una lista de cincos que contiene los cinco\n",
    "                            #consecutivos pero no todos\n",
    "        i+=1\n",
    "        t+=1\n",
    "    elif y[i]=='5' and y[t]!='5': #agrega 1 a w en el caso ej: ...51...\n",
    "        w+=1\n",
    "        i+=1\n",
    "        t+=1\n",
    "    else:\n",
    "        i+=1\n",
    "        t+=1\n",
    "if y[0]=='5' and y[1]!='5': #quita 1 a w en el caso de tener ej: 51...\n",
    "    w-=1\n",
    "if y[tama-2]=='5' and y[tama-1]=='5': #agrega 1 a w en el caso ej: ...55\n",
    "    w+=1\n",
    "for t in range(tama-2):  #quita 1 en el caso ej: ...151... para descartar los\n",
    "                         #los que no son consecutivos que agrega el \n",
    "                         #caso ...51...\n",
    "    if y[t]!='5' and y[t+1]=='5' and y[t+2]!='5':\n",
    "        w-=1\n",
    "\n",
    "print('El número',x,'tiene',len(cincos)+w,'cincos consecutivos')"
   ]
  },
  {
   "cell_type": "markdown",
   "metadata": {},
   "source": [
    "6 Leer un número entero y determinar si la suma de sus dígitos es un número de Fibonacci."
   ]
  },
  {
   "cell_type": "code",
   "execution_count": 8,
   "metadata": {},
   "outputs": [
    {
     "name": "stdout",
     "output_type": "stream",
     "text": [
      "Digite un número entero 12345667\n",
      "la suma de los numeros 12345667 es 34 y está en la secuencia de Fibonacci\n"
     ]
    }
   ],
   "source": [
    "#defino la función para encontrar la secuencia de Fibonacci\n",
    "def fib(n): #tantas veces como quiera repetir\n",
    "    fibonacci = []\n",
    "    a,b =1,1\n",
    "    while a<n:\n",
    "        fibonacci.append(a)\n",
    "        a,b= b,b+a\n",
    "    return fibonacci\n",
    "\n",
    "suma=0 #define la suma de los dígitos\n",
    "\n",
    "x=input('Digite un número entero ')\n",
    "y=list(x)\n",
    "\n",
    "for i in range(len(y)): #realiza la suma de cada número\n",
    "    suma=suma+int(y[i])\n",
    "    \n",
    "\n",
    "lista=fib(suma+1) #crea la lista de números de fibonacci hasta el valor de \n",
    "                  #la suma +1 para incluir el valor de la suma\n",
    "\n",
    "if suma in lista: #revsa si la suma se encuentra en la secuencia de Fibonacci\n",
    "    print('la suma de los numeros',x,'es',suma,'y está en la secuencia'\n",
    "          ' de Fibonacci')\n",
    "else:\n",
    "    print('la suma de los números',x,'es',suma,'y no está en la secuencia'\n",
    "          ' de Fibonacci')"
   ]
  },
  {
   "cell_type": "markdown",
   "metadata": {},
   "source": [
    "7 Leer un número entero positivo y determinar si existen en el, números repetidos. Reporte cuales son los dígitos repetidos."
   ]
  },
  {
   "cell_type": "code",
   "execution_count": 9,
   "metadata": {},
   "outputs": [
    {
     "name": "stdout",
     "output_type": "stream",
     "text": [
      "Digite un entero positivo 1234341\n",
      "Los números repetidos en 1234341 son ['1', '3', '4']\n"
     ]
    }
   ],
   "source": [
    "x=input('Digite un entero positivo ')\n",
    "y=list(x)\n",
    "rep=[] #crea la lista de repetidos\n",
    "aux=0\n",
    "z=0\n",
    "for i in range(len(y)): #busca los numeros repetidos\n",
    "    for t in range(len(y)):\n",
    "        if y[t]==y[i] and t!=i and y[i] not in rep:\n",
    "            rep.append(y[i])\n",
    "            #si hay un numero repetido y no se \n",
    "            #encuentra en la lista rep entonces \n",
    "            #agrega el número\n",
    "            \n",
    "if len(rep)>0:\n",
    "    print('Los números repetidos en',x,'son',rep)\n",
    "    \n",
    "else:\n",
    "    print(x,'no tiene números repetidos')"
   ]
  },
  {
   "cell_type": "markdown",
   "metadata": {},
   "source": [
    "8 Iterar a través de los primeros cien enteros positivos, buscando los múltiplos de 3 e imprimiendo y almacenándolos en una lista hasta encontrar los primeros 15 de ellos. Una vez encontrados, continuar iterando en busca de los múltiplos de 4 y almacenarlos en otra lista."
   ]
  },
  {
   "cell_type": "code",
   "execution_count": 10,
   "metadata": {},
   "outputs": [
    {
     "name": "stdout",
     "output_type": "stream",
     "text": [
      "\n",
      "3 es multiplo de 3\n",
      "6 es multiplo de 3\n",
      "9 es multiplo de 3\n",
      "12 es multiplo de 3\n",
      "15 es multiplo de 3\n",
      "\n",
      "la cantidad de multiplos de 3 es  5\n",
      "\n",
      "16 es multiplo de 4\n",
      "20 es multiplo de 4\n",
      "24 es multiplo de 4\n",
      "28 es multiplo de 4\n",
      "32 es multiplo de 4\n",
      "36 es multiplo de 4\n",
      "40 es multiplo de 4\n",
      "44 es multiplo de 4\n",
      "48 es multiplo de 4\n",
      "52 es multiplo de 4\n",
      "56 es multiplo de 4\n",
      "60 es multiplo de 4\n",
      "64 es multiplo de 4\n",
      "68 es multiplo de 4\n",
      "72 es multiplo de 4\n",
      "76 es multiplo de 4\n",
      "80 es multiplo de 4\n",
      "84 es multiplo de 4\n",
      "88 es multiplo de 4\n",
      "92 es multiplo de 4\n",
      "96 es multiplo de 4\n",
      "100 es multiplo de 4\n",
      "\n",
      "la cantidad de multiplos de 4 es  22\n"
     ]
    }
   ],
   "source": [
    "import numpy as np\n",
    "\n",
    "M=100 #numero de iteraciones\n",
    "limite=15 #limite para hallar los multiplos de 3\n",
    "\n",
    "\n",
    "contador3 = 0 # contador para saber la cantidad de multiplos de 3\n",
    "contador4 = 0 # contador para saber la cantidad de multiplos de 4\n",
    "\n",
    "x=np.zeros(limite+1) #lista de multiplos de 3\n",
    "y=np.zeros(M+1) #lista de multiplos de 4\n",
    "\n",
    "print( )\n",
    "for i in range (1,limite+1): #no se incluye el cero pero si el 15\n",
    "    x[i]=i\n",
    "    # busca los números multiplos de 3 desde 1 hasta 15 y almacena en x\n",
    "    if x[i]%3==0:\n",
    "        print (i, 'es multiplo de 3')\n",
    "        contador3 += 1 #cuenta la cantidad de múltiplos\n",
    "print( )       \n",
    "print ('La cantidad de multiplos de 3 es ',contador3)\n",
    "\n",
    "print( ) \n",
    "for t in range (limite+1,M+1):\n",
    "    y[t]=t\n",
    "    # busca los números multiplos de 4 desde 16 hasta 100 y almacena en y\n",
    "    if y[t]%4==0:\n",
    "        print (t, 'es multiplo de 4')\n",
    "        contador4 += 1\n",
    "\n",
    "print( )\n",
    "print ('La cantidad de multiplos de 4 es ',contador4)"
   ]
  },
  {
   "cell_type": "markdown",
   "metadata": {},
   "source": [
    "9 Hacer un programa que lea las coordenadas (x1,y1,r1) y (x2,y2,r2) que corresponden al centro y al radio de dos círculos. Lea un punto de coordenadas (a,b). Determina si (a,b) está contenido: a) dentro del círculo 1; b) dentro del círculo 2; c) dentro de ambos círculos; d) fuera de ambos círculos. Recordemos que el círculo es el lugar geométrico de los puntos del plano cuya distancia a otro punto fijo, llamado centro, es menor o igual que una cantidad constante, llamada radio."
   ]
  },
  {
   "cell_type": "code",
   "execution_count": 11,
   "metadata": {},
   "outputs": [
    {
     "name": "stdout",
     "output_type": "stream",
     "text": [
      "Digite las coordenadas (x1,y1,r1) del circulo 1, donde \"x1,y1\" son el centro y \"r1\" el radio del circulo 1\n",
      "Digite x1 1\n",
      "Digite y1 2\n",
      "Digite r1 3\n",
      "Digite las coordenadas (x2,y2,r2) del circulo 2, donde \"x2,y2\" son el centro y \"r2\" el radio del circulo 2\n",
      "Digite x2 1\n",
      "Digite y2 2\n",
      "Digite r2 2\n",
      "Digite una coordenada (a,b)\n",
      "Digite a 3\n",
      "Digite b 1\n",
      "3 , 1  está en el circulo 1\n"
     ]
    }
   ],
   "source": [
    "cir1=[] #almacena los datos de circulo 1\n",
    "cir2=[] #almacena los datos de circulo 2\n",
    "#se agregan los datos de los circulos\n",
    "print('Digite las coordenadas (x1,y1,r1) del circulo 1,'\n",
    "      ' donde \"x1,y1\" son el centro y \"r1\" el radio del circulo 1')\n",
    "\n",
    "cir1.append(input('Digite x1 '))\n",
    "cir1.append(input('Digite y1 '))\n",
    "cir1.append(input('Digite r1 '))\n",
    "\n",
    "print('Digite las coordenadas (x2,y2,r2) del circulo 2,'\n",
    "      ' donde \"x2,y2\" son el centro y \"r2\" el radio del circulo 2')\n",
    "\n",
    "cir2.append(input('Digite x2 '))\n",
    "cir2.append(input('Digite y2 '))\n",
    "cir2.append(input('Digite r2 '))\n",
    "#se pide que ingrese las coordenadas del punto a evaluar\n",
    "print('Digite una coordenada (a,b)')\n",
    "a=int(input('Digite a '))\n",
    "b=int(input('Digite b '))\n",
    "t=0 #funciona como un contador para saber en cuantos círculos está\n",
    "\n",
    "#considerando la función de una circunferencia (x-h)^2 + (y-k)^2 = r^2\n",
    "if (a-int(cir1[0]))**2+(b-int(cir1[1]))**2<=(int(cir1[2]))**2: #función del \n",
    "                                                               #circulo\n",
    "    print(a,',',b,' está en el circulo 1')\n",
    "    t+=1\n",
    "if (a-int(cir2[0]))**2+(b-int(cir2[1]))**2<=(int(cir2[2]))**2:\n",
    "    print(a,',',b,' está en el circulo 2')\n",
    "    t+=1\n",
    "if t==2:\n",
    "    print(a,',',b,' está en ambos circulos')\n",
    "    \n",
    "if t==0:\n",
    "    print(a,',',b,' está fuera de los dos circulos')"
   ]
  },
  {
   "cell_type": "markdown",
   "metadata": {},
   "source": [
    "10 Sin utilizar el método .upper() para cadenas, escribir un programa que lea una cadena de texto y la imprima en mayúscula. Tenga en cuenta que el programa debe aceptar las letras con tilde, la ñ y la ü."
   ]
  },
  {
   "cell_type": "code",
   "execution_count": 13,
   "metadata": {
    "scrolled": true
   },
   "outputs": [
    {
     "name": "stdout",
     "output_type": "stream",
     "text": [
      "Ingrese un texto: El pingüino se encontraba en el polo sur, cuando un niño preocupado por el desglaciamineto de los polos lo visitó. -¡Dios mío!- gritó, tras encontrar al pingüino casi sin vida, acorralado por su depredador.\n",
      "\n",
      "El texto en mayúsculas es:  EL PINGÜINO SE ENCONTRABA EN EL POLO SUR, CUANDO UN NIÑO PREOCUPADO POR EL DESGLACIAMINETO DE LOS POLOS LO VISITÓ. -¡DIOS MÍO!- GRITÓ, TRAS ENCONTRAR AL PINGÜINO CASI SIN VIDA, ACORRALADO POR SU DEPREDADOR.\n"
     ]
    }
   ],
   "source": [
    "txt=input('Ingrese un texto: ')\n",
    "# se crea dos cadenas que contengan a todas las letras del alfabeto, una de \n",
    "# minusculas y otra con mayúsculas, cada letra va con su correspodiente en la\n",
    "# misma posición\n",
    "x='abcdefghijklmnñopqrstuvwxyzáéíóúü' \n",
    "y='ABCDEFGHIJKLMNÑOPQRSTUVWXYZÁÉÍÓÚÜ'\n",
    "t=0\n",
    "mayus='' #nueva cadena con las letras en mayúscula\n",
    "\n",
    "for i in range(len(txt)): #busca si la letra del texto esta en las minusculas\n",
    "    if txt[i] in x:\n",
    "        t=x.find(txt[i])     # si está entonces encuentra su posicón t en x\n",
    "        mayus+=y[t] #con la posición encontrada la reemplaza con su homóloga\n",
    "                    #en la lista de mayúsculas\n",
    "    else:\n",
    "        mayus+=txt[i] #si el caracter no se encuentra en las minúsculas, \n",
    "                      #entonces lo agrega directamente.\n",
    "print( )\n",
    "print('El texto en mayúsculas es: ',mayus)"
   ]
  },
  {
   "cell_type": "markdown",
   "metadata": {},
   "source": [
    "11 Escribir un programa que reciba una cadena de texto y reporte:\n",
    "a) cuántas letras vocales en mayúscula se entraron;\n",
    "b) cuántas letras con tilde se entraron (minúsculas y mayúsculas);\n",
    "c) cuántos dígitos se entraron,\n",
    "d) cuántos espacios se entraron;\n",
    "e) cuántas palabras reservadas se entraron.\n",
    "\n",
    "Utilizar para ello los métodos de cadenas especializados como .isupper(),.isdigit(), etc. y la palabra reservada in."
   ]
  },
  {
   "cell_type": "code",
   "execution_count": 16,
   "metadata": {},
   "outputs": [
    {
     "name": "stdout",
     "output_type": "stream",
     "text": [
      "Escriba un texto: En un lenguaje de programación como Python, se tienen diferentes palabras reservadas, entre ellas están: True , in , is , lambda , etc.\n",
      "El número de vocales mayúsculas es 1\n",
      "El número de letras con tilde es 2\n",
      "El número de dígitos es 0\n",
      "El número de espacios es 23\n",
      "El número de palabras reservadas es  4\n"
     ]
    }
   ],
   "source": [
    "txt=input('Escriba un texto: ')\n",
    "txt0=txt.split() #hace el texto una lista de palabras\n",
    "vocmay='AEIOUÁÉÍÓÚÜ' #posibles vocales en mayúscula\n",
    "lettild='áéíóúÁÉÍÓÚ' #posibles letras con tilde\n",
    "nums='1234567890' #digitos\n",
    "espacio=' ' #catacter espacio\n",
    "#lista de palabras reservadas\n",
    "palars=['False','None','True','and','as','assert','async',\\\n",
    "        'await','break','class','continue','def','del','elif',\\\n",
    "        'else','except','finally','for','from global','if',\\\n",
    "        'import','in','is','lambda','nonlocal','not','or',\\\n",
    "        'pass','raise','return','try','while','with','yield'] \n",
    "mayus=0 #cuenta vocales en mayúsculas\n",
    "tild=0 #cuenta las letras con tilde\n",
    "digit=0 #cuenta los digitos\n",
    "esp=0 #cuenta los espacios\n",
    "plrs=0 #contador palabras reservadas\n",
    "\n",
    "for i in range(len(txt)):\n",
    "    if txt[i] in vocmay: #cuenta el las vocales mayúsculas\n",
    "        mayus+=1\n",
    "print('El número de vocales mayúsculas es',mayus,)\n",
    "\n",
    "for i in range(len(txt)):\n",
    "    if txt[i] in lettild: #cuenta las letras con tilde\n",
    "        tild+=1\n",
    "print('El número de letras con tilde es',tild,)\n",
    "\n",
    "for i in range(len(txt)):\n",
    "    if txt[i] in nums: #cuenta los digitos(tambien se podía utilizar el \n",
    "                       #comando .isdigt)\n",
    "        digit+=1\n",
    "print('El número de dígitos es',digit,)\n",
    "        \n",
    "for i in range(len(txt)):\n",
    "    if txt[i] in espacio: #cuenta los espacios\n",
    "        esp+=1\n",
    "print('El número de espacios es',esp,)\n",
    "\n",
    "for i in range(len(txt0)):\n",
    "    if txt0[i] in palars: #con el texto convertido en lista busca y cuenta\n",
    "                          #las palabras reservadas\n",
    "        plrs+=1\n",
    "print('El número de palabras reservadas es ',plrs,)\n"
   ]
  },
  {
   "cell_type": "markdown",
   "metadata": {},
   "source": [
    "12 Hacer un programa que lea dos palabras (podrían estar en mayúscula o minúscula) y determine cual está primero en el diccionario. El programa debe soportar letras con tilde, la ü y la ñ."
   ]
  },
  {
   "cell_type": "code",
   "execution_count": 2,
   "metadata": {},
   "outputs": [
    {
     "name": "stdout",
     "output_type": "stream",
     "text": [
      "Digite la primera palabra celular\n",
      "Digite la segunda palabra célula\n",
      "El orden de las palabras como en un diccionario es:  ['celular', 'célula']\n"
     ]
    }
   ],
   "source": [
    "palab1=input('Digite la primera palabra ')\n",
    "palab2=input('Digite la segunda palabra ')\n",
    "\n",
    "x1=list(palab1.lower()) #convierte la cadena en una lista de minusculas\n",
    "x2=list(palab2.lower())\n",
    "\n",
    "ordalf=('aábcdeéfghiíjklmnñoópqrstuúüvwxyz') #el orden de jerarquia que se \n",
    "                                             #desea es decir a>á>b...\n",
    "y=list(ordalf) #convierte ordalf en lista para comparar los indices\n",
    "orden=[] #lista vacia donde se pondran las palabras en orden alfabético\n",
    "i=0 #indicador\n",
    "\n",
    "#advierten si se han ingresado palabras con caracteres fuera del alfabeto\n",
    "for t in range(len(palab1)):\n",
    "    if x1[t] not in y:\n",
    "        print('Ha ingresado alguna palabra con algún caracter irregular')\n",
    "        print('El programa puede presentar problemas o inconsistencias')\n",
    "\n",
    "for t in range(len(palab2)):\n",
    "    if x2[t] not in y:\n",
    "        print('Ha ingresado alguna palabra con algún caracter irregular')\n",
    "        print('El programa puede presentar problemas o inconsistencias')\n",
    "\n",
    "if len(palab1)<len(palab2): #primer caso para comparar las palabras\n",
    "    while i < len(palab1):\n",
    "        if y.index(x1[i])==y.index(x2[i]): #si son iguales pasa a la siguiente\n",
    "            i+=1\n",
    "        elif y.index(x1[i])<y.index(x2[i]): #si una letra esta en menor orden\n",
    "                                          #decide que palabra va primero\n",
    "            orden.append(palab1)\n",
    "            orden.append(palab2)\n",
    "            break\n",
    "        elif y.index(x1[i])>y.index(x2[i]): \n",
    "            orden.append(palab2)\n",
    "            orden.append(palab1)\n",
    "            break\n",
    "        if i == len(palab1)-1 : \n",
    "            #si los anteriores casos no decidieron\n",
    "              #es porque las palabras tenian las mismas letras hasta ese punto \n",
    "              #y se toma la palabra mas corta como la primera palabra\n",
    "            orden.append(palab1)\n",
    "            orden.append(palab2)\n",
    "            break\n",
    "\n",
    "if len(palab1)==len(palab2): #segundo caso para comparar las palabras\n",
    "    while i < len(palab1):\n",
    "        if y.index(x1[i])==y.index(x2[i]):\n",
    "            i+=1\n",
    "        elif y.index(x1[i])<y.index(x2[i]):\n",
    "            orden.append(palab1)\n",
    "            orden.append(palab2)\n",
    "            break\n",
    "        elif y.index(x1[i])>y.index(x2[i]):\n",
    "            orden.append(palab2)\n",
    "            orden.append(palab1)\n",
    "            break\n",
    "        if y.index(x1[-1])<y.index(x2[-1]):#evalúa el ultimo caracter de cada\n",
    "                                            #palabra para tomar la decisión\n",
    "            orden.append(palab1)\n",
    "            orden.append(palab2)\n",
    "            break\n",
    "        elif y.index(x1[-1])>y.index(x2[-1]):\n",
    "            orden.append(palab2)\n",
    "            orden.append(palab1)\n",
    "            break\n",
    "        if i == len(palab1)-1: #si ningun criterio anterior decidió es porque \n",
    "                               #ambas palabras son iguales\n",
    "            orden.append(palab1)\n",
    "            orden.append(palab1)\n",
    "            break\n",
    "\n",
    "if len(palab1)>len(palab2): #tercer criterio para evaluar las palabras,\n",
    "                            #funciona similar al primer criterio\n",
    "    while i < len(palab2):\n",
    "        if y.index(x2[i])==y.index(x1[i]):\n",
    "            i+=1\n",
    "        elif y.index(x2[i])<y.index(x1[i]):\n",
    "            orden.append(palab2)\n",
    "            orden.append(palab1)\n",
    "            break\n",
    "        elif y.index(x2[i])>y.index(x1[i]):\n",
    "            orden.append(palab1)\n",
    "            orden.append(palab2)\n",
    "            break\n",
    "        if i == len(palab2)-1:\n",
    "            orden.append(palab2)\n",
    "            orden.append(palab1)\n",
    "            break\n",
    "            \n",
    "print('El orden de las palabras como en un diccionario es: ',orden)"
   ]
  },
  {
   "cell_type": "markdown",
   "metadata": {},
   "source": [
    "13 Escribir un programa que lea una cadena de texto y la imprima como un triángulo."
   ]
  },
  {
   "cell_type": "code",
   "execution_count": 3,
   "metadata": {},
   "outputs": [
    {
     "name": "stdout",
     "output_type": "stream",
     "text": [
      "Ingrese un texto: Es una locura odiar a todas las rosas porque una te pinchó: renunciar a todos tus sueños porque uno de ellos no se realizó - El Principito\n",
      "\n",
      "El texto escrito como un triángulo es:\n",
      "                                                       E                                                        \n",
      "                                                      sun                                                       \n",
      "                                                     alocu                                                      \n",
      "                                                    raodiar                                                     \n",
      "                                                   atodaslas                                                    \n",
      "                                                  rosasporque                                                   \n",
      "                                                 unatepinchó:r                                                  \n",
      "                                                enunciaratodost                                                 \n",
      "                                               ussueñosporqueuno                                                \n",
      "                                              deellosnoserealizó-                                               \n",
      "                                                  ElPrincipito                                                  \n"
     ]
    }
   ],
   "source": [
    "txt=input('Ingrese un texto: ')\n",
    "x1=txt.replace(' ','') #quita los espacios de la oración\n",
    "\n",
    "print( )\n",
    "print('El texto escrito como un triángulo es:')\n",
    "\n",
    "i=0 #funciona como contador del intervalo\n",
    "n=1 #contador de impares\n",
    "\n",
    "while i < len(x1): #termina el ciclo cuando el rango alcance el final de \n",
    "                   #la cadena\n",
    "    \n",
    "    y=x1[i:(i+(2*n-1))] #toma un rango de inicio y define el rango final\n",
    "                        #como el munero de inicio i + el siguiente impar\n",
    "    \n",
    "    print(y.center(len(x1))) #imprime el texto de forma centrada\n",
    "                             #si la ultima linea es par no se puede centrar\n",
    "                             #completamente, ya que falta un espacio\n",
    "    \n",
    "    i=i+(2*n-1) #cambia el inicio como el final del anterior\n",
    "    n+=1 #agrega 1 al contador de impares\n",
    "\n"
   ]
  },
  {
   "cell_type": "markdown",
   "metadata": {},
   "source": [
    "14 Leer una cadena de texto y organice alfabéticamente cada una de las letras \n",
    "que la componen, repitiendo cada una tantas veces como se encuentra. \n",
    "Por ejemplo, la cadena ‘tarea importante’ será ‘aaaeeimnoprrttt’. \n",
    "(Note que no se incluyen los espacios)."
   ]
  },
  {
   "cell_type": "code",
   "execution_count": 4,
   "metadata": {},
   "outputs": [
    {
     "name": "stdout",
     "output_type": "stream",
     "text": [
      "Ingrese una cadena de texto: Este es un ejemplo\n",
      "La cadena organizada de forma alfabética es: eeeeejlmnopsstu\n"
     ]
    }
   ],
   "source": [
    "ordalf='aábcdeéfghiíjklmnñoópqrstuúüvwxyz' #la cadena que decide el orden \n",
    "                                           #alfabetico\n",
    "\n",
    "txt0=input('Ingrese una cadena de texto: ').replace(' ','')\n",
    "#quita los espacios de la variable\n",
    "txt=txt0.lower() #convierte en miniusculas la cadena\n",
    "out=''#cadena de texto de salida\n",
    "\n",
    "for i in range(len(ordalf)): #indice que se mueve por el alfabeto\n",
    "   for t in range(len(txt)): #indice que se mueve por la cadena de texto\n",
    "       if txt[t]==ordalf[i]: #compara cada letra de la cadena con la letra del\n",
    "                             #alfabeto\n",
    "            out+= ordalf[i] #agrega la letra del alfabeto que coincida a out\n",
    "        \n",
    "print('La cadena organizada de forma alfabética es:',out)\n"
   ]
  },
  {
   "cell_type": "markdown",
   "metadata": {},
   "source": [
    "15 Leer una lista de números enteros y enumerar cuantos elementos se repiten \n",
    "exactamente dos veces. Utilizar para tal fin el método count() de listas."
   ]
  },
  {
   "cell_type": "code",
   "execution_count": null,
   "metadata": {},
   "outputs": [],
   "source": [
    "\n",
    "lista= eval(input('Escriba una lista de números enteros. '))\n",
    "lista2=[]\n",
    "\n",
    "for i in range(len(lista)): #busca los elementos repetidos dos veces y los \n",
    "                            #agrega a una segunda lista\n",
    "    if lista.count(lista[i])==2:\n",
    "        lista2.append(lista[i])\n",
    "\n",
    "for rep in lista2: #se encarga de que los elementos repeidos aparezcan una \n",
    "                   #sola vez\n",
    "    while lista2.count(rep)>1:\n",
    "        lista2.remove(rep)\n",
    "lista2.sort() #ordena los elementos de la lista\n",
    "print('Los elementos que se repiten exactamente dos veces son',lista2)"
   ]
  }
 ],
 "metadata": {
  "kernelspec": {
   "display_name": "Python 3",
   "language": "python",
   "name": "python3"
  },
  "language_info": {
   "codemirror_mode": {
    "name": "ipython",
    "version": 3
   },
   "file_extension": ".py",
   "mimetype": "text/x-python",
   "name": "python",
   "nbconvert_exporter": "python",
   "pygments_lexer": "ipython3",
   "version": "3.7.3"
  }
 },
 "nbformat": 4,
 "nbformat_minor": 2
}
